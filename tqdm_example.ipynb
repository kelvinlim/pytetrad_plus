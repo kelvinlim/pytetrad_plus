{
 "cells": [
  {
   "cell_type": "code",
   "execution_count": null,
   "id": "840fe29f",
   "metadata": {},
   "outputs": [],
   "source": [
    "import time\n",
    "from tqdm.notebook import tqdm\n",
    "\n",
    "def my_jupyter_method_with_progress_bar():\n",
    "    my_list = range(75)\n",
    "    for item in tqdm(my_list, desc=\"Processing in Jupyter\"):\n",
    "        # Simulate some work\n",
    "        time.sleep(0.05)\n",
    "    print(\"\\nMethod finished in Jupyter!\")\n",
    "\n",
    "# Run the method in a Jupyter Notebook cell\n",
    "my_jupyter_method_with_progress_bar()"
   ]
  }
 ],
 "metadata": {
  "language_info": {
   "name": "python"
  }
 },
 "nbformat": 4,
 "nbformat_minor": 5
}
