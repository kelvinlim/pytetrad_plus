{
 "cells": [
  {
   "cell_type": "markdown",
   "id": "db5050a1",
   "metadata": {},
   "source": [
    "Stability analysis for alcohol"
   ]
  },
  {
   "cell_type": "code",
   "execution_count": 1,
   "id": "332416bb",
   "metadata": {},
   "outputs": [],
   "source": [
    "# set the data and knowledge files\n",
    "data_file = 'canue_alcohol_global.csv'\n",
    "knowledge_file = 'prior_run8.txt'\n",
    "group = 'alcohol'  # used for plot file name"
   ]
  },
  {
   "cell_type": "code",
   "execution_count": 4,
   "id": "a5cbe761",
   "metadata": {},
   "outputs": [
    {
     "name": "stdout",
     "output_type": "stream",
     "text": [
      "['dummy1', 'dummy2']\n",
      "Tetrad version:  7.6.6-0\n"
     ]
    }
   ],
   "source": [
    "from pytetrad_plus import MyTetradSearch\n",
    "from dgraph_flex import DgraphFlex\n",
    "import semopy\n",
    "import pprint as pp\n",
    "\n",
    "# create the objects we will need\n",
    "\n",
    "ts = MyTetradSearch()\n",
    "\n",
    "# get the Tetrad version\n",
    "print(\"Tetrad version: \", ts.getTetradVersion())"
   ]
  },
  {
   "cell_type": "code",
   "execution_count": null,
   "id": "23a4b53f",
   "metadata": {},
   "outputs": [],
   "source": [
    "# read the prior knowledge file\n",
    "prior_lines = ts.read_prior_file(knowledge_file)\n",
    "# extract knowledge from the prior lines\n",
    "knowledge = ts.extract_knowledge(prior_lines)\n",
    "\n",
    "pp.pprint(knowledge)"
   ]
  },
  {
   "cell_type": "code",
   "execution_count": null,
   "id": "3e023b89",
   "metadata": {},
   "outputs": [],
   "source": [
    "# read in the data\n",
    "df = ts.read_csv(data_file)\n",
    "\n",
    "df"
   ]
  },
  {
   "cell_type": "code",
   "execution_count": null,
   "id": "e3c48613",
   "metadata": {},
   "outputs": [],
   "source": [
    "# standardize the data\n",
    "df_std = ts.standardize_df_cols(df)\n",
    "df_std"
   ]
  },
  {
   "cell_type": "code",
   "execution_count": null,
   "id": "6c8c2479",
   "metadata": {},
   "outputs": [],
   "source": [
    "# Run the search\n",
    "searchResult = ts.run_model_search( df_std, \n",
    "                                    model='gfci', \n",
    "                                    knowledge=knowledge, \n",
    "                                    score={'sem_bic': {'penalty_discount': 1.0}},\n",
    "                                    test={'fisher_z': {'alpha': .05}})\n",
    "\n",
    "\n",
    "pp.pprint(searchResult['setEdges'])\n",
    "print(f\"num edges: {len(searchResult['setEdges'])}\")\n",
    "\n"
   ]
  },
  {
   "cell_type": "code",
   "execution_count": null,
   "id": "84013a48",
   "metadata": {},
   "outputs": [],
   "source": [
    "# Run the search with different parameters\n",
    "# added max_degree and complete_rule_set_used\n",
    "searchResult2 = ts.run_model_search( df_std, \n",
    "                                    model='gfci', \n",
    "                                    knowledge=knowledge, \n",
    "                                    score={'sem_bic': {'penalty_discount': 1.0}},\n",
    "                                    test={'fisher_z': {'alpha': .05}},\n",
    "                                    max_degree = 1000,\n",
    "                                    complete_rule_set_used = True,\n",
    "                                    )\n",
    "\n",
    "\n",
    "\n",
    "pp.pprint(searchResult2['setEdges'])\n",
    "print(f\"num edges: {len(searchResult2['setEdges'])}\")\n"
   ]
  },
  {
   "cell_type": "code",
   "execution_count": null,
   "id": "45c76171",
   "metadata": {},
   "outputs": [],
   "source": [
    "# display the graph\n",
    "dgraph = DgraphFlex()\n",
    "dgraph.add_edges(searchResult['setEdges'])\n",
    "dgraph.show_graph()"
   ]
  },
  {
   "cell_type": "code",
   "execution_count": null,
   "id": "b045184c",
   "metadata": {},
   "outputs": [],
   "source": [
    "# run the SEM\n",
    "\n",
    "# convert the edges from searchResult to lavaan format\n",
    "lavaan_model = ts.edges_to_lavaan(searchResult['setEdges'])\n",
    "\n",
    "# run the SEM\n",
    "sem_results = ts.run_semopy(lavaan_model, df_std)"
   ]
  },
  {
   "cell_type": "code",
   "execution_count": null,
   "id": "5a7fa387",
   "metadata": {},
   "outputs": [],
   "source": [
    "# add the sem results to our graph object\n",
    "\n",
    "ts.add_sem_results_to_graph(dgraph, sem_results['estimates'])\n",
    "# save the graph to a png file\n",
    "dgraph.save_graph(plot_format='png', plot_name=f'{group}_single_sem')\n",
    "\n",
    "# show the graph\n",
    "dgraph.show_graph()"
   ]
  },
  {
   "cell_type": "code",
   "execution_count": null,
   "id": "81653e68",
   "metadata": {},
   "outputs": [],
   "source": [
    "# run the stability search\n",
    "stable_edges, sorted_edges, sorted_edges_raw, run_results = ts.run_stability_search(\n",
    "                                        df_std, \n",
    "                                        model='gfci',\n",
    "                                        knowledge=knowledge,\n",
    "                                        score={'sem_bic': {'penalty_discount': 1.0}},\n",
    "                                        test={'fisher_z': {'alpha': .05}},\n",
    "                                        runs=100,\n",
    "                                        min_fraction=0.75,\n",
    "                                        subsample_fraction=0.9,\n",
    "                                        lag_flag=False,\n",
    "                                        save_file='stability_search_results.json',)\n",
    "\n",
    "stable_edges"
   ]
  },
  {
   "cell_type": "code",
   "execution_count": null,
   "id": "09d08982",
   "metadata": {},
   "outputs": [],
   "source": [
    "# lets create the new graph with the stable edges\n",
    "dgraph = DgraphFlex()\n",
    "dgraph.add_edges(stable_edges)\n",
    "\n",
    "lavaan_model = ts.edges_to_lavaan(stable_edges)\n",
    "\n",
    "# run semopy, using the lagged and standardized data\n",
    "sem_results = ts.run_semopy(lavaan_model, df_std)\n",
    "# add the semopy results to the graph object\n",
    "ts.add_sem_results_to_graph(dgraph, sem_results['estimates'])\n",
    "# save the graph to a png file\n",
    "dgraph.save_graph(plot_format='png', plot_name=f'{group}_stable_sem')\n",
    "# show the graph\n",
    "dgraph.show_graph()"
   ]
  }
 ],
 "metadata": {
  "kernelspec": {
   "display_name": ".venv",
   "language": "python",
   "name": "python3"
  },
  "language_info": {
   "codemirror_mode": {
    "name": "ipython",
    "version": 3
   },
   "file_extension": ".py",
   "mimetype": "text/x-python",
   "name": "python",
   "nbconvert_exporter": "python",
   "pygments_lexer": "ipython3",
   "version": "3.13.3"
  }
 },
 "nbformat": 4,
 "nbformat_minor": 5
}
