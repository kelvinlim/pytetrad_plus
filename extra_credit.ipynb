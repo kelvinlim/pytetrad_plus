{
  "cells": [
    {
      "cell_type": "code",
      "execution_count": 1,
      "metadata": {
        "colab": {
          "base_uri": "https://localhost:8080/"
        },
        "id": "gTpdvNW9Hb3a",
        "outputId": "45f0c4a4-a985-40b2-cc16-6c3ef3743118"
      },
      "outputs": [
        {
          "name": "stdout",
          "output_type": "stream",
          "text": [
            "/bin/bash: line 1: /bin/java: No such file or directory\n"
          ]
        },
        {
          "name": "stdout",
          "output_type": "stream",
          "text": [
            "\n",
            "/home/kolim/Projects/pytetrad_plus/.venv/bin:/usr/local/bin:/usr/bin:/bin:/usr/local/games:/usr/games\n",
            "/bin/bash: line 1: java: command not found\n"
          ]
        }
      ],
      "source": [
        "# checking Java installation\n",
        "!$JAVA_HOME/bin/java -version\n",
        "!echo $JAVA_HOME\n",
        "!export PATH=$JAVA_HOME/bin:$PATH\n",
        "!echo $PATH\n",
        "!java -version"
      ]
    },
    {
      "cell_type": "code",
      "execution_count": 2,
      "metadata": {
        "colab": {
          "base_uri": "https://localhost:8080/"
        },
        "id": "7oJeYlrtIj4N",
        "outputId": "7cc93618-7d1b-40b9-c55e-35261bffeb08"
      },
      "outputs": [
        {
          "name": "stdout",
          "output_type": "stream",
          "text": [
            "Requirement already satisfied: JPype1 in ./.venv/lib/python3.11/site-packages (1.5.2)\n",
            "Requirement already satisfied: packaging in ./.venv/lib/python3.11/site-packages (from JPype1) (24.2)\n",
            "Collecting git+https://github.com/cmu-phil/py-tetrad\n",
            "  Cloning https://github.com/cmu-phil/py-tetrad to /tmp/pip-req-build-v3jks4n8\n",
            "  Running command git clone --filter=blob:none --quiet https://github.com/cmu-phil/py-tetrad /tmp/pip-req-build-v3jks4n8\n",
            "  Resolved https://github.com/cmu-phil/py-tetrad to commit 2bfb37cc1ea53a398a95e8bd3f368948570646df\n",
            "  Preparing metadata (setup.py) ... \u001b[?25ldone\n",
            "\u001b[?25hRequirement already satisfied: numpy in ./.venv/lib/python3.11/site-packages (from py-tetrad==0.1.2) (2.2.4)\n",
            "Requirement already satisfied: pandas in ./.venv/lib/python3.11/site-packages (from py-tetrad==0.1.2) (2.2.3)\n",
            "Requirement already satisfied: JPype1 in ./.venv/lib/python3.11/site-packages (from py-tetrad==0.1.2) (1.5.2)\n",
            "Requirement already satisfied: packaging in ./.venv/lib/python3.11/site-packages (from JPype1->py-tetrad==0.1.2) (24.2)\n",
            "Requirement already satisfied: python-dateutil>=2.8.2 in ./.venv/lib/python3.11/site-packages (from pandas->py-tetrad==0.1.2) (2.9.0.post0)\n",
            "Requirement already satisfied: pytz>=2020.1 in ./.venv/lib/python3.11/site-packages (from pandas->py-tetrad==0.1.2) (2025.2)\n",
            "Requirement already satisfied: tzdata>=2022.7 in ./.venv/lib/python3.11/site-packages (from pandas->py-tetrad==0.1.2) (2025.2)\n",
            "Requirement already satisfied: six>=1.5 in ./.venv/lib/python3.11/site-packages (from python-dateutil>=2.8.2->pandas->py-tetrad==0.1.2) (1.17.0)\n",
            "Requirement already satisfied: pytetrad_plus in ./.venv/lib/python3.11/site-packages (0.2.3)\n",
            "Requirement already satisfied: jPype1 in ./.venv/lib/python3.11/site-packages (from pytetrad_plus) (1.5.2)\n",
            "Requirement already satisfied: pandas in ./.venv/lib/python3.11/site-packages (from pytetrad_plus) (2.2.3)\n",
            "Requirement already satisfied: python-dotenv in ./.venv/lib/python3.11/site-packages (from pytetrad_plus) (1.1.0)\n",
            "Requirement already satisfied: PyYAML in ./.venv/lib/python3.11/site-packages (from pytetrad_plus) (6.0.2)\n",
            "Requirement already satisfied: seaborn in ./.venv/lib/python3.11/site-packages (from pytetrad_plus) (0.13.2)\n",
            "Requirement already satisfied: semopy in ./.venv/lib/python3.11/site-packages (from pytetrad_plus) (2.3.11)\n",
            "Requirement already satisfied: packaging in ./.venv/lib/python3.11/site-packages (from jPype1->pytetrad_plus) (24.2)\n",
            "Requirement already satisfied: numpy>=1.23.2 in ./.venv/lib/python3.11/site-packages (from pandas->pytetrad_plus) (2.2.4)\n",
            "Requirement already satisfied: python-dateutil>=2.8.2 in ./.venv/lib/python3.11/site-packages (from pandas->pytetrad_plus) (2.9.0.post0)\n",
            "Requirement already satisfied: pytz>=2020.1 in ./.venv/lib/python3.11/site-packages (from pandas->pytetrad_plus) (2025.2)\n",
            "Requirement already satisfied: tzdata>=2022.7 in ./.venv/lib/python3.11/site-packages (from pandas->pytetrad_plus) (2025.2)\n",
            "Requirement already satisfied: six>=1.5 in ./.venv/lib/python3.11/site-packages (from python-dateutil>=2.8.2->pandas->pytetrad_plus) (1.17.0)\n",
            "Requirement already satisfied: matplotlib!=3.6.1,>=3.4 in ./.venv/lib/python3.11/site-packages (from seaborn->pytetrad_plus) (3.10.1)\n",
            "Requirement already satisfied: contourpy>=1.0.1 in ./.venv/lib/python3.11/site-packages (from matplotlib!=3.6.1,>=3.4->seaborn->pytetrad_plus) (1.3.1)\n",
            "Requirement already satisfied: cycler>=0.10 in ./.venv/lib/python3.11/site-packages (from matplotlib!=3.6.1,>=3.4->seaborn->pytetrad_plus) (0.12.1)\n",
            "Requirement already satisfied: fonttools>=4.22.0 in ./.venv/lib/python3.11/site-packages (from matplotlib!=3.6.1,>=3.4->seaborn->pytetrad_plus) (4.56.0)\n",
            "Requirement already satisfied: kiwisolver>=1.3.1 in ./.venv/lib/python3.11/site-packages (from matplotlib!=3.6.1,>=3.4->seaborn->pytetrad_plus) (1.4.8)\n",
            "Requirement already satisfied: pillow>=8 in ./.venv/lib/python3.11/site-packages (from matplotlib!=3.6.1,>=3.4->seaborn->pytetrad_plus) (11.1.0)\n",
            "Requirement already satisfied: pyparsing>=2.3.1 in ./.venv/lib/python3.11/site-packages (from matplotlib!=3.6.1,>=3.4->seaborn->pytetrad_plus) (3.2.3)\n",
            "Requirement already satisfied: scipy in ./.venv/lib/python3.11/site-packages (from semopy->pytetrad_plus) (1.15.2)\n",
            "Requirement already satisfied: sympy in ./.venv/lib/python3.11/site-packages (from semopy->pytetrad_plus) (1.13.3)\n",
            "Requirement already satisfied: scikit-learn in ./.venv/lib/python3.11/site-packages (from semopy->pytetrad_plus) (1.6.1)\n",
            "Requirement already satisfied: statsmodels in ./.venv/lib/python3.11/site-packages (from semopy->pytetrad_plus) (0.14.4)\n",
            "Requirement already satisfied: numdifftools in ./.venv/lib/python3.11/site-packages (from semopy->pytetrad_plus) (0.9.41)\n",
            "Requirement already satisfied: joblib>=1.2.0 in ./.venv/lib/python3.11/site-packages (from scikit-learn->semopy->pytetrad_plus) (1.4.2)\n",
            "Requirement already satisfied: threadpoolctl>=3.1.0 in ./.venv/lib/python3.11/site-packages (from scikit-learn->semopy->pytetrad_plus) (3.6.0)\n",
            "Requirement already satisfied: patsy>=0.5.6 in ./.venv/lib/python3.11/site-packages (from statsmodels->semopy->pytetrad_plus) (1.0.1)\n",
            "Requirement already satisfied: mpmath<1.4,>=1.1.0 in ./.venv/lib/python3.11/site-packages (from sympy->semopy->pytetrad_plus) (1.3.0)\n"
          ]
        }
      ],
      "source": [
        "# Jpype1 for interacting with tetrad with python\n",
        "!pip install JPype1\n",
        "# pytetrad package\n",
        "!pip install git+https://github.com/cmu-phil/py-tetrad\n",
        "# extras to add to pytetrad to support use in jupyter notebooks and processing\n",
        "!pip install pytetrad_plus"
      ]
    },
    {
      "cell_type": "code",
      "execution_count": 4,
      "metadata": {
        "colab": {
          "base_uri": "https://localhost:8080/"
        },
        "id": "NzwAWDUZHqDv",
        "outputId": "86672a9c-aa44-46e2-a5b1-cbc519c648a7"
      },
      "outputs": [
        {
          "name": "stdout",
          "output_type": "stream",
          "text": [
            "Requirement already satisfied: dgraph_flex in ./.venv/lib/python3.13/site-packages (0.1.4.1)\n",
            "Requirement already satisfied: graphviz in ./.venv/lib/python3.13/site-packages (from dgraph_flex) (0.20.3)\n",
            "Requirement already satisfied: pyaml in ./.venv/lib/python3.13/site-packages (from dgraph_flex) (25.1.0)\n",
            "Requirement already satisfied: matplotlib in ./.venv/lib/python3.13/site-packages (from dgraph_flex) (3.10.1)\n",
            "Requirement already satisfied: contourpy>=1.0.1 in ./.venv/lib/python3.13/site-packages (from matplotlib->dgraph_flex) (1.3.1)\n",
            "Requirement already satisfied: cycler>=0.10 in ./.venv/lib/python3.13/site-packages (from matplotlib->dgraph_flex) (0.12.1)\n",
            "Requirement already satisfied: fonttools>=4.22.0 in ./.venv/lib/python3.13/site-packages (from matplotlib->dgraph_flex) (4.56.0)\n",
            "Requirement already satisfied: kiwisolver>=1.3.1 in ./.venv/lib/python3.13/site-packages (from matplotlib->dgraph_flex) (1.4.8)\n",
            "Requirement already satisfied: numpy>=1.23 in ./.venv/lib/python3.13/site-packages (from matplotlib->dgraph_flex) (2.2.4)\n",
            "Requirement already satisfied: packaging>=20.0 in ./.venv/lib/python3.13/site-packages (from matplotlib->dgraph_flex) (24.2)\n",
            "Requirement already satisfied: pillow>=8 in ./.venv/lib/python3.13/site-packages (from matplotlib->dgraph_flex) (11.1.0)\n",
            "Requirement already satisfied: pyparsing>=2.3.1 in ./.venv/lib/python3.13/site-packages (from matplotlib->dgraph_flex) (3.2.3)\n",
            "Requirement already satisfied: python-dateutil>=2.7 in ./.venv/lib/python3.13/site-packages (from matplotlib->dgraph_flex) (2.9.0.post0)\n",
            "Requirement already satisfied: PyYAML in ./.venv/lib/python3.13/site-packages (from pyaml->dgraph_flex) (6.0.2)\n",
            "Requirement already satisfied: six>=1.5 in ./.venv/lib/python3.13/site-packages (from python-dateutil>=2.7->matplotlib->dgraph_flex) (1.17.0)\n",
            "\n",
            "\u001b[1m[\u001b[0m\u001b[34;49mnotice\u001b[0m\u001b[1;39;49m]\u001b[0m\u001b[39;49m A new release of pip is available: \u001b[0m\u001b[31;49m25.0.1\u001b[0m\u001b[39;49m -> \u001b[0m\u001b[32;49m25.1\u001b[0m\n",
            "\u001b[1m[\u001b[0m\u001b[34;49mnotice\u001b[0m\u001b[1;39;49m]\u001b[0m\u001b[39;49m To update, run: \u001b[0m\u001b[32;49mpip install --upgrade pip\u001b[0m\n"
          ]
        }
      ],
      "source": [
        "!pip install dgraph_flex\n"
      ]
    },
    {
      "cell_type": "code",
      "execution_count": 5,
      "metadata": {
        "colab": {
          "base_uri": "https://localhost:8080/",
          "height": 367
        },
        "id": "GffUc6YFHw76",
        "outputId": "0d2b06b2-54e1-4a55-9cc1-865ffb0b4e31"
      },
      "outputs": [
        {
          "data": {
            "image/png": "[encoded data removed]",
            "text/plain": [
              "<graphviz.graphs.Digraph at 0x7d75f143d010>"
            ]
          },
          "execution_count": 5,
          "metadata": {},
          "output_type": "execute_result"
        }
      ],
      "source": [
        "from dgraph_flex import DgraphFlex\n",
        "\n",
        "obj = DgraphFlex()\n",
        "# add edges to graph object\n",
        "obj.add_edge('A', '-->', 'B', color='green', strength=-0.5, pvalue=0.01)\n",
        "obj.add_edge('B', '-->', 'C', color='red', strength=-.5, pvalue=0.001)\n",
        "obj.add_edge('C', '-->', 'E', color='green', strength=0.5, pvalue=0.005)\n",
        "obj.add_edge('D', 'o-o', 'B')\n",
        "# load into graphviz object and render to window\n",
        "obj.show_graph()\n"
      ]
    },
    {
      "cell_type": "markdown",
      "metadata": {
        "id": "NST2Z16iEuWf"
      },
      "source": [
        "Run an analysis on my own data. I need to be able to access the data.\n"
      ]
    },
    {
      "cell_type": "code",
      "execution_count": 6,
      "metadata": {
        "colab": {
          "base_uri": "https://localhost:8080/"
        },
        "id": "wwsZXlvEbdxP",
        "outputId": "4e31efa4-5328-4880-f034-363de125cc31"
      },
      "outputs": [
        {
          "name": "stdout",
          "output_type": "stream",
          "text": [
            "  642   642 30641 pytetrad_plus/boston_data_raw.csv\n"
          ]
        },
        {
          "name": "stdout",
          "output_type": "stream",
          "text": [
            "   622    622 166889 pytetrad_plus/boston_data.csv\n"
          ]
        }
      ],
      "source": [
        "# get line counts\n",
        "!wc  pytetrad_plus/boston_data_raw.csv\n",
        "!wc  pytetrad_plus/boston_data.csv"
      ]
    },
    {
      "cell_type": "code",
      "execution_count": 6,
      "metadata": {
        "colab": {
          "base_uri": "https://localhost:8080/",
          "height": 424
        },
        "id": "rARsuLBfMLe5",
        "outputId": "22e69c6d-0ae0-428d-8bf1-6129bff3c6be"
      },
      "outputs": [
        {
          "data": {
            "text/html": [
              "<div>\n",
              "<style scoped>\n",
              "    .dataframe tbody tr th:only-of-type {\n",
              "        vertical-align: middle;\n",
              "    }\n",
              "\n",
              "    .dataframe tbody tr th {\n",
              "        vertical-align: top;\n",
              "    }\n",
              "\n",
              "    .dataframe thead th {\n",
              "        text-align: right;\n",
              "    }\n",
              "</style>\n",
              "<table border=\"1\" class=\"dataframe\">\n",
              "  <thead>\n",
              "    <tr style=\"text-align: right;\">\n",
              "      <th></th>\n",
              "      <th>V3</th>\n",
              "      <th>V2</th>\n",
              "      <th>V1</th>\n",
              "      <th>Y</th>\n",
              "      <th>V6</th>\n",
              "      <th>X</th>\n",
              "      <th>Z</th>\n",
              "      <th>V8</th>\n",
              "      <th>A</th>\n",
              "      <th>B</th>\n",
              "    </tr>\n",
              "  </thead>\n",
              "  <tbody>\n",
              "    <tr>\n",
              "      <th>0</th>\n",
              "      <td>8.664572</td>\n",
              "      <td>3.814074</td>\n",
              "      <td>-1.940943</td>\n",
              "      <td>2.021112</td>\n",
              "      <td>-0.312353</td>\n",
              "      <td>2.102669</td>\n",
              "      <td>1.855167</td>\n",
              "      <td>0.544582</td>\n",
              "      <td>7.145446</td>\n",
              "      <td>7.227991</td>\n",
              "    </tr>\n",
              "    <tr>\n",
              "      <th>1</th>\n",
              "      <td>9.775891</td>\n",
              "      <td>2.403630</td>\n",
              "      <td>1.272587</td>\n",
              "      <td>0.425088</td>\n",
              "      <td>0.969035</td>\n",
              "      <td>4.529575</td>\n",
              "      <td>3.560956</td>\n",
              "      <td>1.759685</td>\n",
              "      <td>6.037929</td>\n",
              "      <td>5.774928</td>\n",
              "    </tr>\n",
              "    <tr>\n",
              "      <th>2</th>\n",
              "      <td>9.164975</td>\n",
              "      <td>3.388250</td>\n",
              "      <td>1.422488</td>\n",
              "      <td>1.935278</td>\n",
              "      <td>0.219630</td>\n",
              "      <td>0.684954</td>\n",
              "      <td>0.435031</td>\n",
              "      <td>0.859976</td>\n",
              "      <td>6.277137</td>\n",
              "      <td>7.494771</td>\n",
              "    </tr>\n",
              "    <tr>\n",
              "      <th>3</th>\n",
              "      <td>9.201432</td>\n",
              "      <td>3.843721</td>\n",
              "      <td>-0.742163</td>\n",
              "      <td>2.076599</td>\n",
              "      <td>1.211959</td>\n",
              "      <td>2.212968</td>\n",
              "      <td>1.510550</td>\n",
              "      <td>1.706644</td>\n",
              "      <td>7.652403</td>\n",
              "      <td>6.189962</td>\n",
              "    </tr>\n",
              "    <tr>\n",
              "      <th>4</th>\n",
              "      <td>11.570124</td>\n",
              "      <td>4.566536</td>\n",
              "      <td>1.773819</td>\n",
              "      <td>0.923744</td>\n",
              "      <td>0.281393</td>\n",
              "      <td>0.904513</td>\n",
              "      <td>2.324837</td>\n",
              "      <td>-0.425178</td>\n",
              "      <td>3.680821</td>\n",
              "      <td>5.886430</td>\n",
              "    </tr>\n",
              "    <tr>\n",
              "      <th>...</th>\n",
              "      <td>...</td>\n",
              "      <td>...</td>\n",
              "      <td>...</td>\n",
              "      <td>...</td>\n",
              "      <td>...</td>\n",
              "      <td>...</td>\n",
              "      <td>...</td>\n",
              "      <td>...</td>\n",
              "      <td>...</td>\n",
              "      <td>...</td>\n",
              "    </tr>\n",
              "    <tr>\n",
              "      <th>995</th>\n",
              "      <td>9.711738</td>\n",
              "      <td>2.691686</td>\n",
              "      <td>0.841387</td>\n",
              "      <td>-0.811759</td>\n",
              "      <td>-0.032159</td>\n",
              "      <td>1.782397</td>\n",
              "      <td>1.218257</td>\n",
              "      <td>-1.371884</td>\n",
              "      <td>8.761448</td>\n",
              "      <td>6.648111</td>\n",
              "    </tr>\n",
              "    <tr>\n",
              "      <th>996</th>\n",
              "      <td>11.613526</td>\n",
              "      <td>5.181700</td>\n",
              "      <td>1.908678</td>\n",
              "      <td>-1.119759</td>\n",
              "      <td>0.592012</td>\n",
              "      <td>1.710866</td>\n",
              "      <td>3.608142</td>\n",
              "      <td>0.899682</td>\n",
              "      <td>6.680745</td>\n",
              "      <td>7.031204</td>\n",
              "    </tr>\n",
              "    <tr>\n",
              "      <th>997</th>\n",
              "      <td>11.286783</td>\n",
              "      <td>3.897429</td>\n",
              "      <td>1.044914</td>\n",
              "      <td>1.713174</td>\n",
              "      <td>-0.189947</td>\n",
              "      <td>1.415068</td>\n",
              "      <td>0.724415</td>\n",
              "      <td>2.370094</td>\n",
              "      <td>4.026501</td>\n",
              "      <td>7.953272</td>\n",
              "    </tr>\n",
              "    <tr>\n",
              "      <th>998</th>\n",
              "      <td>10.320962</td>\n",
              "      <td>3.698207</td>\n",
              "      <td>1.757196</td>\n",
              "      <td>2.274301</td>\n",
              "      <td>-0.381216</td>\n",
              "      <td>2.113038</td>\n",
              "      <td>1.151963</td>\n",
              "      <td>1.212954</td>\n",
              "      <td>8.046421</td>\n",
              "      <td>7.789878</td>\n",
              "    </tr>\n",
              "    <tr>\n",
              "      <th>999</th>\n",
              "      <td>8.156577</td>\n",
              "      <td>3.878249</td>\n",
              "      <td>-0.823539</td>\n",
              "      <td>3.892110</td>\n",
              "      <td>-0.413997</td>\n",
              "      <td>2.429313</td>\n",
              "      <td>1.519251</td>\n",
              "      <td>1.021291</td>\n",
              "      <td>5.321377</td>\n",
              "      <td>5.225522</td>\n",
              "    </tr>\n",
              "  </tbody>\n",
              "</table>\n",
              "<p>1000 rows × 10 columns</p>\n",
              "</div>"
            ],
            "text/plain": [
              "            V3        V2        V1         Y        V6         X         Z  \\\n",
              "0     8.664572  3.814074 -1.940943  2.021112 -0.312353  2.102669  1.855167   \n",
              "1     9.775891  2.403630  1.272587  0.425088  0.969035  4.529575  3.560956   \n",
              "2     9.164975  3.388250  1.422488  1.935278  0.219630  0.684954  0.435031   \n",
              "3     9.201432  3.843721 -0.742163  2.076599  1.211959  2.212968  1.510550   \n",
              "4    11.570124  4.566536  1.773819  0.923744  0.281393  0.904513  2.324837   \n",
              "..         ...       ...       ...       ...       ...       ...       ...   \n",
              "995   9.711738  2.691686  0.841387 -0.811759 -0.032159  1.782397  1.218257   \n",
              "996  11.613526  5.181700  1.908678 -1.119759  0.592012  1.710866  3.608142   \n",
              "997  11.286783  3.897429  1.044914  1.713174 -0.189947  1.415068  0.724415   \n",
              "998  10.320962  3.698207  1.757196  2.274301 -0.381216  2.113038  1.151963   \n",
              "999   8.156577  3.878249 -0.823539  3.892110 -0.413997  2.429313  1.519251   \n",
              "\n",
              "           V8         A         B  \n",
              "0    0.544582  7.145446  7.227991  \n",
              "1    1.759685  6.037929  5.774928  \n",
              "2    0.859976  6.277137  7.494771  \n",
              "3    1.706644  7.652403  6.189962  \n",
              "4   -0.425178  3.680821  5.886430  \n",
              "..        ...       ...       ...  \n",
              "995 -1.371884  8.761448  6.648111  \n",
              "996  0.899682  6.680745  7.031204  \n",
              "997  2.370094  4.026501  7.953272  \n",
              "998  1.212954  8.046421  7.789878  \n",
              "999  1.021291  5.321377  5.225522  \n",
              "\n",
              "[1000 rows x 10 columns]"
            ]
          },
          "execution_count": 6,
          "metadata": {},
          "output_type": "execute_result"
        }
      ],
      "source": [
        "# read data\n",
        "\n",
        "from pytetrad_plus import MyTetradSearch\n",
        "import pprint\n",
        "\n",
        "ts = MyTetradSearch()\n",
        "\n",
        "# read data\n",
        "df = ts.read_csv(f'HINF5660 2025 extra credit data.csv')\n",
        "\n",
        "df"
      ]
    },
    {
      "cell_type": "code",
      "execution_count": 7,
      "metadata": {
        "colab": {
          "base_uri": "https://localhost:8080/"
        },
        "id": "OHBjlbScrIOP",
        "outputId": "414132a3-2fab-4d5d-dea0-8d77065ec1b4"
      },
      "outputs": [
        {
          "name": "stdout",
          "output_type": "stream",
          "text": [
            "['Z o-o V3',\n",
            " 'A o-> V8',\n",
            " 'Z o-o X',\n",
            " 'V1 --> V6',\n",
            " 'V3 o-> V1',\n",
            " 'V6 --> V8',\n",
            " 'V2 o-> V1']\n"
          ]
        }
      ],
      "source": [
        "\n",
        "\n",
        "searchResult = ts.run_model_search(df, model='gfci',\n",
        "                                                    #knowledge=knowledge,\n",
        "                                                    score={'sem_bic': {'penalty_discount': 1.0}},\n",
        "                                                    test={'fisher_z': {'alpha': .05}})\n",
        "\n",
        "edges = list(searchResult['setEdges'])\n",
        "pprint.pprint(edges)"
      ]
    },
    {
      "cell_type": "code",
      "execution_count": 8,
      "metadata": {
        "colab": {
          "base_uri": "https://localhost:8080/",
          "height": 421
        },
        "id": "2GeeFuWsOEC6",
        "outputId": "4cbcc795-6c6a-4df0-df32-e905bb1415c0"
      },
      "outputs": [
        {
          "data": {
            "image/png": "[encoded data removed]",
            "text/plain": [
              "<graphviz.graphs.Digraph at 0x7f6123f32150>"
            ]
          },
          "execution_count": 8,
          "metadata": {},
          "output_type": "execute_result"
        }
      ],
      "source": [
        "from dgraph_flex import DgraphFlex\n",
        "# create graph output\n",
        "obj = DgraphFlex()\n",
        "# add edges to graph object\n",
        "for edge in edges:\n",
        "  source,edge_type, target = edge.split(' ')\n",
        "  obj.add_edge(source,edge_type, target, color='purple')\n",
        "\n",
        "obj.show_graph()"
      ]
    },
    {
      "cell_type": "code",
      "execution_count": 10,
      "metadata": {
        "id": "4yHEkfM7PZD9"
      },
      "outputs": [],
      "source": [
        "# run the sem\n",
        "import semopy\n",
        "\n",
        "lavaan_model = ts.edges_to_lavaan(searchResult['setEdges'])\n",
        "    \n",
        "# run semopy\n",
        "sem_results = ts.run_semopy(lavaan_model, df)\n",
        "    \n",
        "# plot into png\n",
        "png_path = 'extra_credit.png'\n",
        "g = semopy.semplot(sem_results['model'], png_path,  plot_covs = True)\n"
      ]
    }
  ],
  "metadata": {
    "colab": {
      "provenance": []
    },
    "kernelspec": {
      "display_name": ".venv",
      "language": "python",
      "name": "python3"
    },
    "language_info": {
      "codemirror_mode": {
        "name": "ipython",
        "version": 3
      },
      "file_extension": ".py",
      "mimetype": "text/x-python",
      "name": "python",
      "nbconvert_exporter": "python",
      "pygments_lexer": "ipython3",
      "version": "3.11.2"
    }
  },
  "nbformat": 4,
  "nbformat_minor": 0
}
