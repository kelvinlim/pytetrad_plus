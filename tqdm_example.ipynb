{
 "cells": [
  {
   "cell_type": "code",
   "execution_count": 1,
   "id": "840fe29f",
   "metadata": {},
   "outputs": [
    {
     "data": {
      "application/vnd.jupyter.widget-view+json": {
       "model_id": "328a758776fe4804a4f19b6db1d3d7aa",
       "version_major": 2,
       "version_minor": 0
      },
      "text/plain": [
       "Processing in Jupyter:   0%|          | 0/75 [00:00<?, ?it/s]"
      ]
     },
     "metadata": {},
     "output_type": "display_data"
    },
    {
     "name": "stdout",
     "output_type": "stream",
     "text": [
      "\n",
      "Method finished in Jupyter!\n"
     ]
    }
   ],
   "source": [
    "import time\n",
    "from tqdm.notebook import tqdm\n",
    "\n",
    "def my_jupyter_method_with_progress_bar():\n",
    "    my_list = range(75)\n",
    "    for item in tqdm(my_list, desc=\"Processing in Jupyter\"):\n",
    "        # Simulate some work\n",
    "        time.sleep(0.05)\n",
    "    print(\"\\nMethod finished in Jupyter!\")\n",
    "\n",
    "# Run the method in a Jupyter Notebook cell\n",
    "my_jupyter_method_with_progress_bar()"
   ]
  }
 ],
 "metadata": {
  "kernelspec": {
   "display_name": ".venv",
   "language": "python",
   "name": "python3"
  },
  "language_info": {
   "codemirror_mode": {
    "name": "ipython",
    "version": 3
   },
   "file_extension": ".py",
   "mimetype": "text/x-python",
   "name": "python",
   "nbconvert_exporter": "python",
   "pygments_lexer": "ipython3",
   "version": "3.13.3"
  }
 },
 "nbformat": 4,
 "nbformat_minor": 5
}
