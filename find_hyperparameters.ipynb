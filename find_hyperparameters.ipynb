{
 "cells": [
  {
   "cell_type": "markdown",
   "id": "5eb0a82b",
   "metadata": {},
   "source": [
    "## Demo finding the hyperparameters"
   ]
  },
  {
   "cell_type": "code",
   "execution_count": 1,
   "id": "eb35dd23",
   "metadata": {},
   "outputs": [],
   "source": [
    "from pytetrad_plus import MyTetradSearch\n",
    "from dgraph_flex import DgraphFlex\n",
    "import semopy\n",
    "import pprint as pp"
   ]
  },
  {
   "cell_type": "code",
   "execution_count": 2,
   "id": "9bce544f",
   "metadata": {},
   "outputs": [],
   "source": [
    "# create  an instance o MyTetradSearch\n",
    "ts = MyTetradSearch()\n",
    "\n",
    "# set the data and knowledge files\n",
    "data_file = 'pytetrad_plus/boston_data_raw.csv'\n",
    "knowledge_file = 'pytetrad_plus/boston_prior.txt'\n"
   ]
  },
  {
   "cell_type": "code",
   "execution_count": 3,
   "id": "7fed9a2f",
   "metadata": {},
   "outputs": [
    {
     "data": {
      "text/html": [
       "<div>\n",
       "<style scoped>\n",
       "    .dataframe tbody tr th:only-of-type {\n",
       "        vertical-align: middle;\n",
       "    }\n",
       "\n",
       "    .dataframe tbody tr th {\n",
       "        vertical-align: top;\n",
       "    }\n",
       "\n",
       "    .dataframe thead th {\n",
       "        text-align: right;\n",
       "    }\n",
       "</style>\n",
       "<table border=\"1\" class=\"dataframe\">\n",
       "  <thead>\n",
       "    <tr style=\"text-align: right;\">\n",
       "      <th></th>\n",
       "      <th>alcohol_bev</th>\n",
       "      <th>TIB</th>\n",
       "      <th>TST</th>\n",
       "      <th>PANAS_PA</th>\n",
       "      <th>PANAS_NA</th>\n",
       "      <th>worry_scale</th>\n",
       "      <th>PHQ9</th>\n",
       "    </tr>\n",
       "  </thead>\n",
       "  <tbody>\n",
       "    <tr>\n",
       "      <th>0</th>\n",
       "      <td>1.0</td>\n",
       "      <td>9.00</td>\n",
       "      <td>7.333333</td>\n",
       "      <td>44.0</td>\n",
       "      <td>13.0</td>\n",
       "      <td>8.0</td>\n",
       "      <td>0.0</td>\n",
       "    </tr>\n",
       "    <tr>\n",
       "      <th>1</th>\n",
       "      <td>0.0</td>\n",
       "      <td>10.25</td>\n",
       "      <td>8.750000</td>\n",
       "      <td>40.0</td>\n",
       "      <td>12.0</td>\n",
       "      <td>14.0</td>\n",
       "      <td>0.0</td>\n",
       "    </tr>\n",
       "    <tr>\n",
       "      <th>2</th>\n",
       "      <td>1.0</td>\n",
       "      <td>8.50</td>\n",
       "      <td>7.166667</td>\n",
       "      <td>39.0</td>\n",
       "      <td>12.0</td>\n",
       "      <td>15.0</td>\n",
       "      <td>0.0</td>\n",
       "    </tr>\n",
       "    <tr>\n",
       "      <th>3</th>\n",
       "      <td>1.0</td>\n",
       "      <td>8.75</td>\n",
       "      <td>8.083333</td>\n",
       "      <td>39.0</td>\n",
       "      <td>12.0</td>\n",
       "      <td>12.0</td>\n",
       "      <td>0.0</td>\n",
       "    </tr>\n",
       "    <tr>\n",
       "      <th>4</th>\n",
       "      <td>1.0</td>\n",
       "      <td>8.25</td>\n",
       "      <td>6.666667</td>\n",
       "      <td>38.0</td>\n",
       "      <td>13.0</td>\n",
       "      <td>15.0</td>\n",
       "      <td>0.0</td>\n",
       "    </tr>\n",
       "    <tr>\n",
       "      <th>...</th>\n",
       "      <td>...</td>\n",
       "      <td>...</td>\n",
       "      <td>...</td>\n",
       "      <td>...</td>\n",
       "      <td>...</td>\n",
       "      <td>...</td>\n",
       "      <td>...</td>\n",
       "    </tr>\n",
       "    <tr>\n",
       "      <th>636</th>\n",
       "      <td>4.0</td>\n",
       "      <td>8.75</td>\n",
       "      <td>7.916667</td>\n",
       "      <td>29.0</td>\n",
       "      <td>12.0</td>\n",
       "      <td>17.0</td>\n",
       "      <td>3.0</td>\n",
       "    </tr>\n",
       "    <tr>\n",
       "      <th>637</th>\n",
       "      <td>4.0</td>\n",
       "      <td>8.50</td>\n",
       "      <td>7.666667</td>\n",
       "      <td>31.0</td>\n",
       "      <td>12.0</td>\n",
       "      <td>17.0</td>\n",
       "      <td>4.0</td>\n",
       "    </tr>\n",
       "    <tr>\n",
       "      <th>638</th>\n",
       "      <td>3.0</td>\n",
       "      <td>8.50</td>\n",
       "      <td>7.583333</td>\n",
       "      <td>33.0</td>\n",
       "      <td>13.0</td>\n",
       "      <td>17.0</td>\n",
       "      <td>3.0</td>\n",
       "    </tr>\n",
       "    <tr>\n",
       "      <th>639</th>\n",
       "      <td>3.0</td>\n",
       "      <td>9.00</td>\n",
       "      <td>8.166667</td>\n",
       "      <td>31.0</td>\n",
       "      <td>12.0</td>\n",
       "      <td>19.0</td>\n",
       "      <td>2.0</td>\n",
       "    </tr>\n",
       "    <tr>\n",
       "      <th>640</th>\n",
       "      <td>4.0</td>\n",
       "      <td>8.25</td>\n",
       "      <td>7.416667</td>\n",
       "      <td>31.0</td>\n",
       "      <td>13.0</td>\n",
       "      <td>17.0</td>\n",
       "      <td>1.0</td>\n",
       "    </tr>\n",
       "  </tbody>\n",
       "</table>\n",
       "<p>641 rows × 7 columns</p>\n",
       "</div>"
      ],
      "text/plain": [
       "     alcohol_bev    TIB       TST  PANAS_PA  PANAS_NA  worry_scale  PHQ9\n",
       "0            1.0   9.00  7.333333      44.0      13.0          8.0   0.0\n",
       "1            0.0  10.25  8.750000      40.0      12.0         14.0   0.0\n",
       "2            1.0   8.50  7.166667      39.0      12.0         15.0   0.0\n",
       "3            1.0   8.75  8.083333      39.0      12.0         12.0   0.0\n",
       "4            1.0   8.25  6.666667      38.0      13.0         15.0   0.0\n",
       "..           ...    ...       ...       ...       ...          ...   ...\n",
       "636          4.0   8.75  7.916667      29.0      12.0         17.0   3.0\n",
       "637          4.0   8.50  7.666667      31.0      12.0         17.0   4.0\n",
       "638          3.0   8.50  7.583333      33.0      13.0         17.0   3.0\n",
       "639          3.0   9.00  8.166667      31.0      12.0         19.0   2.0\n",
       "640          4.0   8.25  7.416667      31.0      13.0         17.0   1.0\n",
       "\n",
       "[641 rows x 7 columns]"
      ]
     },
     "execution_count": 3,
     "metadata": {},
     "output_type": "execute_result"
    }
   ],
   "source": [
    "# read in the data\n",
    "df = ts.read_csv(data_file)\n",
    "df"
   ]
  },
  {
   "cell_type": "code",
   "execution_count": 4,
   "id": "59be70eb",
   "metadata": {},
   "outputs": [
    {
     "data": {
      "text/plain": [
       "{'addtemporal': {0: ['alcohol_bev_lag',\n",
       "   'TIB_lag',\n",
       "   'TST_lag',\n",
       "   'PANAS_PA_lag',\n",
       "   'PANAS_NA_lag',\n",
       "   'worry_scale_lag',\n",
       "   'PHQ9_lag'],\n",
       "  1: ['alcohol_bev',\n",
       "   'TIB',\n",
       "   'TST',\n",
       "   'PANAS_PA',\n",
       "   'PANAS_NA',\n",
       "   'worry_scale',\n",
       "   'PHQ9']}}"
      ]
     },
     "execution_count": 4,
     "metadata": {},
     "output_type": "execute_result"
    }
   ],
   "source": [
    "# read the prior file for testing\n",
    "prior_lines = ts.read_prior_file('pytetrad_plus/boston_prior.txt')\n",
    "# extract knowledge from the prior lines\n",
    "knowledge = ts.extract_knowledge(prior_lines)\n",
    "\n",
    "knowledge"
   ]
  },
  {
   "cell_type": "markdown",
   "id": "3c129d48",
   "metadata": {},
   "source": [
    "## Get the hyper parameters for this Boston dataset\n",
    "\n",
    "We will set a target false positive rate (fpr) of .005 and use the default alpha of .01 and pd_values.\n",
    "\n",
    "This takes about 2 minutes to calculate on an Apple M2Max Mac.\n",
    "\n",
    "The expected hyper parameters for gfci for a target fpr of .005 are\n",
    "a penalty discount is 1.2 and an alpha of .01"
   ]
  },
  {
   "cell_type": "code",
   "execution_count": 9,
   "id": "de25cd56",
   "metadata": {},
   "outputs": [
    {
     "name": "stdout",
     "output_type": "stream",
     "text": [
      "Number of permutations set to 2000 based on target fpr of 0.005.\n",
      "Permutation with penalty discount 1.0 and alpha 0.01...\n"
     ]
    },
    {
     "data": {
      "application/vnd.jupyter.widget-view+json": {
       "model_id": "6da1c71d5c2d42c291515672c44cc3dd",
       "version_major": 2,
       "version_minor": 0
      },
      "text/plain": [
       "Finding fpr for pd 1.0 alpha 0.01:   0%|          | 0/2000 [00:00<?, ?perm/s]"
      ]
     },
     "metadata": {},
     "output_type": "display_data"
    },
    {
     "name": "stdout",
     "output_type": "stream",
     "text": [
      "\n",
      " pd1.0 alpha 0.01 with fpr 0.03296703296703297 complete!\n",
      "Avg fpr for penalty discount 1.0 and alpha 0.01 is 0.009653846153846122\n",
      "Permutation with penalty discount 1.5 and alpha 0.01...\n"
     ]
    },
    {
     "data": {
      "application/vnd.jupyter.widget-view+json": {
       "model_id": "9a3b84c7b40c42ddb0a4f849bd200875",
       "version_major": 2,
       "version_minor": 0
      },
      "text/plain": [
       "Finding fpr for pd 1.5 alpha 0.01:   0%|          | 0/2000 [00:00<?, ?perm/s]"
      ]
     },
     "metadata": {},
     "output_type": "display_data"
    },
    {
     "name": "stdout",
     "output_type": "stream",
     "text": [
      "\n",
      " pd1.5 alpha 0.01 with fpr 0.0 complete!\n",
      "Avg fpr for penalty discount 1.5 and alpha 0.01 is 0.0018461538461538413\n"
     ]
    },
    {
     "data": {
      "text/plain": [
       "{'penaltyDiscount': 1.198856799696338,\n",
       " 'alphaValue': 0.01,\n",
       " 'calc_fpr': 0.005,\n",
       " 'n_permutations': 2000}"
      ]
     },
     "execution_count": 9,
     "metadata": {},
     "output_type": "execute_result"
    }
   ],
   "source": [
    "# run the hyperparameter search\n",
    "results = ts.get_hyper_parameters(\n",
    "    df,\n",
    "    alpha_values = [0.01],\n",
    "    knowledge=knowledge,\n",
    "    target_fpr= 0.005,\n",
    "    lag_flag=True,\n",
    "    lag_stub='_lag',\n",
    "    verbose=True,\n",
    "\n",
    ")\n",
    "\n",
    "results"
   ]
  }
 ],
 "metadata": {
  "kernelspec": {
   "display_name": ".venv",
   "language": "python",
   "name": "python3"
  },
  "language_info": {
   "codemirror_mode": {
    "name": "ipython",
    "version": 3
   },
   "file_extension": ".py",
   "mimetype": "text/x-python",
   "name": "python",
   "nbconvert_exporter": "python",
   "pygments_lexer": "ipython3",
   "version": "3.13.3"
  }
 },
 "nbformat": 4,
 "nbformat_minor": 5
}
